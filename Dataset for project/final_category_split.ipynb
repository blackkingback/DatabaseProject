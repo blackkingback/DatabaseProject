{
 "cells": [
  {
   "cell_type": "code",
   "execution_count": 31,
   "metadata": {
    "collapsed": true
   },
   "outputs": [],
   "source": [
    "import pandas as pd"
   ]
  },
  {
   "cell_type": "code",
   "execution_count": 32,
   "outputs": [],
   "source": [
    "df = pd.read_csv(\"categories.tsv\",sep=\"\\t\")"
   ],
   "metadata": {
    "collapsed": false
   }
  },
  {
   "cell_type": "code",
   "execution_count": 33,
   "outputs": [],
   "source": [
    "categories = df['categories']"
   ],
   "metadata": {
    "collapsed": false
   }
  },
  {
   "cell_type": "code",
   "execution_count": 34,
   "outputs": [
    {
     "name": "stdout",
     "output_type": "stream",
     "text": [
      "{2, 3, 4, 5, 6, 7, 8, 9, 10, 11, 12, 13, 14, 15, 16, 17, 18, 19, 20, 21, 22, 23, 24, 25, 26, 27, 28, 29, 30, 31, 32, 33, 34, 35, 36, 37, 38, 39, 40, 41, 42, 43, 44, 45, 46, 47, 48, 49, 50, 51, 52, 53, 54, 55, 56, 57, 59, 60, 62, 63, 65, 67, 68, 71, 74, 76, 78, 81, 84, 86, 87, 91, 96, 101, 106, 111, 115, 119, 123, 128, 132, 136}\n"
     ]
    }
   ],
   "source": [
    "length_set = set()\n",
    "for ele in categories:\n",
    "    temp = ele.split(\";\")\n",
    "    temp_length = len(temp)\n",
    "    length_set.add(temp_length)\n",
    "print(length_set)"
   ],
   "metadata": {
    "collapsed": false
   }
  },
  {
   "cell_type": "code",
   "execution_count": 35,
   "outputs": [
    {
     "name": "stdout",
     "output_type": "stream",
     "text": [
      "{'', 'Collectibles & Fine Art', 'Home & Kitchen', 'Beauty', 'Kitchen & Dining', 'Furniture & D&#233', 'Clothing, Shoes & Jewelry', 'Pet Supplies', 'CDs & Vinyl', 'Luxury Beauty', 'Video Games', 'Kindle Store', 'Office & School Supplies', 'Toys & Games', 'Health & Personal Care', 'Camera & Photo', 'Baby Products', 'Software', 'Patio, Lawn & Garden', 'Computers', 'Arts, Crafts & Sewing', 'Musical Instruments', 'Office Products', 'Electronics', 'Tools & Home Improvement', 'Sports & Outdoors', 'Baby', 'GPS & Navigation', 'Books', 'Car Electronics', 'Appliances', 'Home Improvement', 'MP3 Players & Accessories', 'Movies & TV', 'All Beauty', 'Amazon Fashion', 'Industrial & Scientific', 'Grocery & Gourmet Food', 'Cell Phones & Accessories', 'Digital Music', 'All Electronics', 'Purchase Circles', 'Automotive'}\n"
     ]
    }
   ],
   "source": [
    "main_category_set = set()\n",
    "for ele in categories:\n",
    "    temp = ele.split(\";\")\n",
    "    main_category_set .add(temp[0])\n",
    "print(main_category_set)"
   ],
   "metadata": {
    "collapsed": false
   }
  },
  {
   "cell_type": "code",
   "execution_count": 36,
   "outputs": [
    {
     "data": {
      "text/plain": "107"
     },
     "execution_count": 36,
     "metadata": {},
     "output_type": "execute_result"
    }
   ],
   "source": [
    "f = open(\"categories2.tsv\",\"w\")\n",
    "start = \"\"\n",
    "for i in range(0,10):\n",
    "    temp = \"category\"+str(i+1)\n",
    "    start = start + temp + \"\\t\"\n",
    "f.write(\"asin\"+\"\\t\"+start+\"\\n\")"
   ],
   "metadata": {
    "collapsed": false
   }
  },
  {
   "cell_type": "code",
   "execution_count": 37,
   "outputs": [],
   "source": [
    "category_count = 10\n",
    "for index,row in df.iterrows():\n",
    "    asin = row['asin']\n",
    "    category_list = row['categories'].split(\";\")\n",
    "    write_list = [None] * category_count\n",
    "    for i in range(0,category_count):\n",
    "        try:\n",
    "            write_list[i] = category_list[i]\n",
    "        except:\n",
    "            write_list[i] = \"End_of_Category\"\n",
    "    f.write(asin+\"\\t\"+\"\\t\".join(write_list)+\"\\n\")\n",
    "f.close()"
   ],
   "metadata": {
    "collapsed": false
   }
  },
  {
   "cell_type": "code",
   "execution_count": 40,
   "outputs": [],
   "source": [
    "df22 = pd.read_csv(\"categories2.tsv\",sep=\"\\t\")"
   ],
   "metadata": {
    "collapsed": false
   }
  },
  {
   "cell_type": "code",
   "execution_count": 41,
   "outputs": [
    {
     "data": {
      "text/plain": "Index(['asin', 'category1', 'category2', 'category3', 'category4', 'category5',\n       'category6', 'category7', 'category8', 'category9', 'category10'],\n      dtype='object')"
     },
     "execution_count": 41,
     "metadata": {},
     "output_type": "execute_result"
    }
   ],
   "source": [
    "df22.columns"
   ],
   "metadata": {
    "collapsed": false
   }
  },
  {
   "cell_type": "code",
   "execution_count": 44,
   "outputs": [
    {
     "data": {
      "text/plain": "asin               0\ncategory1         33\ncategory2      71518\ncategory3      39375\ncategory4     259411\ncategory5     402758\ncategory6     242831\ncategory7      45077\ncategory8       7582\ncategory9       2725\ncategory10      1507\ndtype: int64"
     },
     "execution_count": 44,
     "metadata": {},
     "output_type": "execute_result"
    }
   ],
   "source": [
    "df22.isna().sum()"
   ],
   "metadata": {
    "collapsed": false
   }
  },
  {
   "cell_type": "code",
   "execution_count": 45,
   "outputs": [],
   "source": [
    "df22.fillna(\"End_of_Category\", inplace=True)"
   ],
   "metadata": {
    "collapsed": false
   }
  },
  {
   "cell_type": "code",
   "execution_count": 46,
   "outputs": [
    {
     "data": {
      "text/plain": "asin          0\ncategory1     0\ncategory2     0\ncategory3     0\ncategory4     0\ncategory5     0\ncategory6     0\ncategory7     0\ncategory8     0\ncategory9     0\ncategory10    0\ndtype: int64"
     },
     "execution_count": 46,
     "metadata": {},
     "output_type": "execute_result"
    }
   ],
   "source": [
    "df22.isna().sum()"
   ],
   "metadata": {
    "collapsed": false
   }
  },
  {
   "cell_type": "code",
   "execution_count": 47,
   "outputs": [],
   "source": [
    "df22.to_csv(\"categories2.tsv\",sep=\"\\t\",index=False)"
   ],
   "metadata": {
    "collapsed": false
   }
  }
 ],
 "metadata": {
  "kernelspec": {
   "display_name": "Python 3",
   "language": "python",
   "name": "python3"
  },
  "language_info": {
   "codemirror_mode": {
    "name": "ipython",
    "version": 2
   },
   "file_extension": ".py",
   "mimetype": "text/x-python",
   "name": "python",
   "nbconvert_exporter": "python",
   "pygments_lexer": "ipython2",
   "version": "2.7.6"
  }
 },
 "nbformat": 4,
 "nbformat_minor": 0
}
