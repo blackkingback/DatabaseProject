{
 "cells": [
  {
   "cell_type": "code",
   "execution_count": null,
   "metadata": {
    "collapsed": true
   },
   "outputs": [],
   "source": [
    "import pandas as pd"
   ]
  },
  {
   "cell_type": "code",
   "execution_count": null,
   "outputs": [],
   "source": [
    "df = pd.read_csv(\"categories2.tsv\",sep=\"\\t\")"
   ],
   "metadata": {
    "collapsed": false
   }
  },
  {
   "cell_type": "code",
   "execution_count": null,
   "outputs": [],
   "source": [
    "df = df[['asin','category1','category2','category3']]"
   ],
   "metadata": {
    "collapsed": false
   }
  },
  {
   "cell_type": "code",
   "execution_count": null,
   "outputs": [],
   "source": [
    "groups = df.groupby(['category1'])"
   ],
   "metadata": {
    "collapsed": false
   }
  },
  {
   "cell_type": "code",
   "execution_count": null,
   "outputs": [],
   "source": [
    "for name1, group1 in df.groupby(['category1']):\n",
    "    for name2,group2 in group1.groupby(['category2']):\n",
    "        for name3,group3 in group2.groupby(['category3']):\n",
    "            if name2 == \"End_of_Category\":\n",
    "                continue\n",
    "            if name3 == \"End_of_Category\":\n",
    "                continue\n",
    "            target_string = name1+\"\\t\"+str(len(group1))+\"\\t\"+name2+\"\\t\"+str(len(group2))+\"\\t\"+name3+\"\\t\"+str(len(group3))\n",
    "            print(target_string)"
   ],
   "metadata": {
    "collapsed": false
   }
  }
 ],
 "metadata": {
  "kernelspec": {
   "display_name": "Python 3",
   "language": "python",
   "name": "python3"
  },
  "language_info": {
   "codemirror_mode": {
    "name": "ipython",
    "version": 2
   },
   "file_extension": ".py",
   "mimetype": "text/x-python",
   "name": "python",
   "nbconvert_exporter": "python",
   "pygments_lexer": "ipython2",
   "version": "2.7.6"
  }
 },
 "nbformat": 4,
 "nbformat_minor": 0
}
