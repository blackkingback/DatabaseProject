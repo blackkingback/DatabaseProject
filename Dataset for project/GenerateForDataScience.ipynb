{
 "cells": [
  {
   "cell_type": "code",
   "execution_count": 1,
   "metadata": {
    "collapsed": true
   },
   "outputs": [],
   "source": [
    "import pandas as pd\n",
    "from tqdm import tqdm"
   ]
  },
  {
   "cell_type": "code",
   "execution_count": 2,
   "outputs": [],
   "source": [
    "df = pd.read_csv(\"amazon_product_data.tsv\",sep=\"\\t\")"
   ],
   "metadata": {
    "collapsed": false
   }
  },
  {
   "cell_type": "code",
   "execution_count": 3,
   "outputs": [],
   "source": [
    "df = df[[\"asin\",\"also_bought\",\"also_viewed\",\"buy_after_viewing\",\"bought_together\",\"price\",\"sale_category\",\"sale_rank\"]]"
   ],
   "metadata": {
    "collapsed": false
   }
  },
  {
   "cell_type": "code",
   "execution_count": 4,
   "outputs": [
    {
     "data": {
      "text/plain": "         asin                                        also_bought  \\\n0  0000031909  B002BZX8Z6,B00JHONN1S,0000031895,B00D2K1M3O,00...   \n1  0000031852  B00JHONN1S,B002BZX8Z6,B00D2K1M3O,0000031909,B0...   \n2  0000031887  0000031852,0000031895,0000031909,B00D2K1M3O,B0...   \n3  0000191639                                                NaN   \n4  0000031895  B002BZX8Z6,B00JHONN1S,0000031909,B008F0SU0Y,B0...   \n\n                                         also_viewed buy_after_viewing  \\\n0  B002BZX8Z6,B00JHONN1S,B008F0SU0Y,B00E1YRI4C,B0...               NaN   \n1  B002BZX8Z6,B00JHONN1S,B008F0SU0Y,B00D23MC6W,B0...               NaN   \n2  B00E1YRI4C,B00D23MC6W,B00AFDOPDA,B00538F5OK,B0...               NaN   \n3                                                NaN               NaN   \n4  B002BZX8Z6,B00E1YRI4C,B00JHONN1S,B00D10CLVW,B0...               NaN   \n\n         bought_together  price          sale_category  sale_rank  \n0             B002BZX8Z6   7.00           Toys & Games     201847  \n1             B002BZX8Z6   3.17           Toys & Games     211836  \n2             B00D23MC6W   6.79  Sports &amp; Outdoors       8547  \n3                    NaN  37.12           Toys & Games     612379  \n4  B002BZX8Z6,B008F0SU0Y   2.99           Toys & Games      36575  ",
      "text/html": "<div>\n<style scoped>\n    .dataframe tbody tr th:only-of-type {\n        vertical-align: middle;\n    }\n\n    .dataframe tbody tr th {\n        vertical-align: top;\n    }\n\n    .dataframe thead th {\n        text-align: right;\n    }\n</style>\n<table border=\"1\" class=\"dataframe\">\n  <thead>\n    <tr style=\"text-align: right;\">\n      <th></th>\n      <th>asin</th>\n      <th>also_bought</th>\n      <th>also_viewed</th>\n      <th>buy_after_viewing</th>\n      <th>bought_together</th>\n      <th>price</th>\n      <th>sale_category</th>\n      <th>sale_rank</th>\n    </tr>\n  </thead>\n  <tbody>\n    <tr>\n      <th>0</th>\n      <td>0000031909</td>\n      <td>B002BZX8Z6,B00JHONN1S,0000031895,B00D2K1M3O,00...</td>\n      <td>B002BZX8Z6,B00JHONN1S,B008F0SU0Y,B00E1YRI4C,B0...</td>\n      <td>NaN</td>\n      <td>B002BZX8Z6</td>\n      <td>7.00</td>\n      <td>Toys &amp; Games</td>\n      <td>201847</td>\n    </tr>\n    <tr>\n      <th>1</th>\n      <td>0000031852</td>\n      <td>B00JHONN1S,B002BZX8Z6,B00D2K1M3O,0000031909,B0...</td>\n      <td>B002BZX8Z6,B00JHONN1S,B008F0SU0Y,B00D23MC6W,B0...</td>\n      <td>NaN</td>\n      <td>B002BZX8Z6</td>\n      <td>3.17</td>\n      <td>Toys &amp; Games</td>\n      <td>211836</td>\n    </tr>\n    <tr>\n      <th>2</th>\n      <td>0000031887</td>\n      <td>0000031852,0000031895,0000031909,B00D2K1M3O,B0...</td>\n      <td>B00E1YRI4C,B00D23MC6W,B00AFDOPDA,B00538F5OK,B0...</td>\n      <td>NaN</td>\n      <td>B00D23MC6W</td>\n      <td>6.79</td>\n      <td>Sports &amp;amp; Outdoors</td>\n      <td>8547</td>\n    </tr>\n    <tr>\n      <th>3</th>\n      <td>0000191639</td>\n      <td>NaN</td>\n      <td>NaN</td>\n      <td>NaN</td>\n      <td>NaN</td>\n      <td>37.12</td>\n      <td>Toys &amp; Games</td>\n      <td>612379</td>\n    </tr>\n    <tr>\n      <th>4</th>\n      <td>0000031895</td>\n      <td>B002BZX8Z6,B00JHONN1S,0000031909,B008F0SU0Y,B0...</td>\n      <td>B002BZX8Z6,B00E1YRI4C,B00JHONN1S,B00D10CLVW,B0...</td>\n      <td>NaN</td>\n      <td>B002BZX8Z6,B008F0SU0Y</td>\n      <td>2.99</td>\n      <td>Toys &amp; Games</td>\n      <td>36575</td>\n    </tr>\n  </tbody>\n</table>\n</div>"
     },
     "execution_count": 4,
     "metadata": {},
     "output_type": "execute_result"
    }
   ],
   "source": [
    "df.head()"
   ],
   "metadata": {
    "collapsed": false
   }
  },
  {
   "cell_type": "code",
   "execution_count": 5,
   "outputs": [],
   "source": [
    "f = open(\"triple.csv\",\"w\")"
   ],
   "metadata": {
    "collapsed": false
   }
  },
  {
   "cell_type": "code",
   "execution_count": 6,
   "outputs": [
    {
     "name": "stderr",
     "output_type": "stream",
     "text": [
      "1060350it [01:15, 14062.96it/s]\n"
     ]
    }
   ],
   "source": [
    "for index,row in tqdm(df.iterrows()):\n",
    "    asin = row['asin']\n",
    "\n",
    "    if type(row['also_bought']) is str:\n",
    "        also_bought_list = row['also_bought'].split(\",\")\n",
    "        for ele in also_bought_list:\n",
    "            f.write(asin+\"\\t\"+'also_bought'+'\\t'+ele+\"\\n\")\n",
    "\n",
    "    if type(row['also_viewed']) is str:\n",
    "        also_bought_list = row['also_viewed'].split(\",\")\n",
    "        for ele in also_bought_list:\n",
    "            f.write(asin+\"\\t\"+'also_viewed'+'\\t'+ele+\"\\n\")\n",
    "\n",
    "    if type(row['buy_after_viewing']) is str:\n",
    "        also_bought_list = row['buy_after_viewing'].split(\",\")\n",
    "        for ele in also_bought_list:\n",
    "            f.write(asin+\"\\t\"+'buy_after_viewing'+'\\t'+ele+\"\\n\")\n",
    "\n",
    "    if type(row['bought_together']) is str:\n",
    "        also_bought_list = row['bought_together'].split(\",\")\n",
    "        for ele in also_bought_list:\n",
    "            f.write(asin+\"\\t\"+'bought_together'+'\\t'+ele+\"\\n\")\n",
    "\n",
    "    if row['price']:\n",
    "        f.write(asin+\"\\t\"+'price'+'\\t'+str(row['price'])+\"\\n\")\n",
    "\n",
    "    if row['sale_rank']:\n",
    "        f.write(asin+\"\\t\"+'sale_rank'+'\\t'+str(row['sale_rank'])+\"\\n\")\n",
    "\n",
    "    if row['sale_category']:\n",
    "        f.write(asin+\"\\t\"+'sale_category'+'\\t'+str(row['sale_category']) +\"\\n\")\n",
    "\n",
    "f.close()"
   ],
   "metadata": {
    "collapsed": false
   }
  }
 ],
 "metadata": {
  "kernelspec": {
   "display_name": "Python 3",
   "language": "python",
   "name": "python3"
  },
  "language_info": {
   "codemirror_mode": {
    "name": "ipython",
    "version": 2
   },
   "file_extension": ".py",
   "mimetype": "text/x-python",
   "name": "python",
   "nbconvert_exporter": "python",
   "pygments_lexer": "ipython2",
   "version": "2.7.6"
  }
 },
 "nbformat": 4,
 "nbformat_minor": 0
}
